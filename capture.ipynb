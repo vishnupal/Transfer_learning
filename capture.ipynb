{
 "cells": [
  {
   "cell_type": "code",
   "execution_count": null,
   "metadata": {},
   "outputs": [],
   "source": []
  },
  {
   "cell_type": "code",
   "execution_count": 1,
   "metadata": {},
   "outputs": [
    {
     "name": "stdin",
     "output_type": "stream",
     "text": [
      "Enter 1 for Train data  or 2 for Test data 1\n",
      "Enter your object no. 2\n",
      "How much photo no 3\n"
     ]
    },
    {
     "name": "stdout",
     "output_type": "stream",
     "text": [
      "Start for  1\n",
      "[[233 238 218 218]]\n",
      "[[233 238 218 218]]\n",
      "[[232 231 223 223]]\n",
      "[[232 231 223 223]]\n",
      "[[230 221 224 224]]\n",
      "[[230 221 224 224]]\n",
      "Collecting Samples Complete\n"
     ]
    },
    {
     "name": "stdin",
     "output_type": "stream",
     "text": [
      "Press enter for next object  \n"
     ]
    },
    {
     "name": "stdout",
     "output_type": "stream",
     "text": [
      "Start for  2\n",
      "[[239 208 226 226]]\n",
      "[[239 208 226 226]]\n",
      "[[240 210 224 224]]\n",
      "[[240 210 224 224]]\n",
      "[[241 210 223 223]]\n",
      "[[241 210 223 223]]\n",
      "Collecting Samples Complete\n"
     ]
    },
    {
     "name": "stdin",
     "output_type": "stream",
     "text": [
      "Press enter for next object  \n"
     ]
    }
   ],
   "source": [
    "import os\n",
    "import cv2\n",
    "import numpy as np\n",
    "datatype  = int(input(\"Enter 1 for Train data  or 2 for Test data\"))\n",
    "os.system('rm -rf ./model/Train/*')\n",
    "os.system('rm -rf ./model/Test/*')\n",
    "\n",
    "if datatype == 1:\n",
    "    NO = int(input(\"Enter your object no.\"))\n",
    "    Train = int(input(\"How much photo no\"))\n",
    "    for i in range(NO):\n",
    "        print(\"Start for \",i+1)\n",
    "    \n",
    "\n",
    "# Load HAAR face classifier\n",
    "        face_classifier = cv2.CascadeClassifier('haarcascade_frontalface_default.xml')\n",
    "\n",
    "# Load functions\n",
    "        def face_extractor(img):\n",
    "    # Function detects faces and returns the cropped face\n",
    "    # If no face detected, it returns the input image\n",
    "    \n",
    "            gray = cv2.cvtColor(img,cv2.COLOR_BGR2GRAY)\n",
    "            faces = face_classifier.detectMultiScale(gray, 1.3, 5)\n",
    "            print(faces)\n",
    "            if faces is ():\n",
    "                return None\n",
    "    \n",
    "    \n",
    "    \n",
    "    \n",
    "    \n",
    "    \n",
    "    # Crop all faces found\n",
    "            for (x,y,w,h) in faces:\n",
    "                cropped_face = img[y:y+h, x:x+w]\n",
    "\n",
    "            return cropped_face\n",
    "\n",
    "# Initialize Webcam\n",
    "\n",
    "        cap = cv2.VideoCapture(0)\n",
    "        count = 0\n",
    "\n",
    "# Collect 100 samples of your face from webcam input\n",
    "        while True:\n",
    "\n",
    "            ret, frame = cap.read()\n",
    "            if face_extractor(frame) is not None:\n",
    "                count += 1\n",
    "                face = cv2.resize(face_extractor(frame), (300, 300))\n",
    "\n",
    "        # Save file in specified directory with unique name\n",
    "                \n",
    "                os.system('mkdir ./model/Train/n'+str(i))\n",
    "                file_name_path = './model/Train/n'+str(i)+'/' + str(count) + '.jpg'\n",
    "                cv2.imwrite(file_name_path, face)\n",
    "\n",
    "        # Put count on images and display live count\n",
    "                cv2.imshow('Face Cropper', face)\n",
    "                cv2.putText(face, str(count), (50, 50), cv2.FONT_HERSHEY_COMPLEX, 1, (0,255,0), 2)\n",
    "\n",
    "        \n",
    "            else:\n",
    "                print(\"Face not found\")\n",
    "                pass\n",
    "\n",
    "            if cv2.waitKey(1) == 13 or count == Train: #13 is the Enter Key\n",
    "                break\n",
    "        \n",
    "        cap.release()\n",
    "        cv2.destroyAllWindows()      \n",
    "        print(\"Collecting Samples Complete\")\n",
    "        input(\"Press enter for next object \")\n",
    "elif datatype ==2:\n",
    "    NO = int(input(\"Enter your object no.\"))\n",
    "    Test = int(input(\"How much photo no\"))\n",
    "    for i in range(NO):\n",
    "        print(\"Start for \",i+1)\n",
    "    \n",
    "\n",
    "# Load HAAR face classifier\n",
    "        face_classifier = cv2.CascadeClassifier('haarcascade_frontalface_default.xml')\n",
    "\n",
    "# Load functions\n",
    "        def face_extractor(img):\n",
    "    # Function detects faces and returns the cropped face\n",
    "    # If no face detected, it returns the input image\n",
    "    \n",
    "            gray = cv2.cvtColor(img,cv2.COLOR_BGR2GRAY)\n",
    "            faces = face_classifier.detectMultiScale(gray, 1.3, 5)\n",
    "            print(faces)\n",
    "            if faces is ():\n",
    "                return None\n",
    "    \n",
    "    # Crop all faces found\n",
    "            for (x,y,w,h) in faces:\n",
    "                cropped_face = img[y:y+h, x:x+w]\n",
    "\n",
    "            return cropped_face\n",
    "\n",
    "# Initialize Webcam\n",
    "\n",
    "        cap = cv2.VideoCapture(0)\n",
    "        count = 0\n",
    "\n",
    "# Collect 100 samples of your face from webcam input\n",
    "        while True:\n",
    "\n",
    "            ret, frame = cap.read()\n",
    "            if face_extractor(frame) is not None:\n",
    "                count += 1\n",
    "                face = cv2.resize(face_extractor(frame), (300, 300))\n",
    "\n",
    "        # Save file in specified directory with unique name\n",
    "\n",
    "                os.system('mkdir ./model/Test/n'+str(i))\n",
    "                file_name_path = './model/Test/n'+str(i)+'/' + str(count) + '.jpg'\n",
    "                cv2.imwrite(file_name_path, face)\n",
    "\n",
    "        # Put count on images and display live count\n",
    "                cv2.imshow('Face Cropper', face)\n",
    "                cv2.putText(face, str(count), (50, 50), cv2.FONT_HERSHEY_COMPLEX, 1, (0,255,0), 2)\n",
    "\n",
    "        \n",
    "            else:\n",
    "                print(\"Face not found\")\n",
    "                pass\n",
    "\n",
    "            if cv2.waitKey(1) == 13 or count == Test: #13 is the Enter Key\n",
    "                break\n",
    "      \n",
    "        cap.release()\n",
    "        cv2.destroyAllWindows()      \n",
    "        print(\"Collecting Samples Complete\")\n",
    "        input(\"Press enter for next object \")\n",
    "else:\n",
    "    print(\"plz enter valid number\")\n",
    "    exit(0)"
   ]
  },
  {
   "cell_type": "code",
   "execution_count": 7,
   "metadata": {},
   "outputs": [
    {
     "name": "stdout",
     "output_type": "stream",
     "text": [
      "Enter valid number\n"
     ]
    }
   ],
   "source": []
  },
  {
   "cell_type": "code",
   "execution_count": null,
   "metadata": {},
   "outputs": [],
   "source": []
  }
 ],
 "metadata": {
  "kernelspec": {
   "display_name": "Python 3",
   "language": "python",
   "name": "python3"
  },
  "language_info": {
   "codemirror_mode": {
    "name": "ipython",
    "version": 3
   },
   "file_extension": ".py",
   "mimetype": "text/x-python",
   "name": "python",
   "nbconvert_exporter": "python",
   "pygments_lexer": "ipython3",
   "version": "3.7.4"
  }
 },
 "nbformat": 4,
 "nbformat_minor": 4
}

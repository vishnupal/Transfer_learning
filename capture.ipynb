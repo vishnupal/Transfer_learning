{
 "cells": [
  {
   "cell_type": "code",
   "execution_count": 21,
   "metadata": {},
   "outputs": [],
   "source": [
    "def Capture(NO,Train,d):\n",
    "\n",
    "\n",
    "    import os\n",
    "    import cv2\n",
    "    import numpy as np\n",
    "\n",
    "    os.system('rm -rf ./model/Train/*')\n",
    "    os.system('rm -rf ./model/Test/*')\n",
    "    os.system('mkdir ./model ./model/Train')\n",
    "    os.system('mkdir ./model ./model/Test')\n",
    "\n",
    "    name \n",
    "    for i in range(NO):\n",
    "        print(\"Start for \",i+1)\n",
    "    \n",
    "\n",
    "# Load HAAR face classifier\n",
    "        face_classifier = cv2.CascadeClassifier('haarcascade_frontalface_default.xml')\n",
    "\n",
    "# Load functions\n",
    "        def face_extractor(img):\n",
    "    # Function detects faces and returns the cropped face\n",
    "    # If no face detected, it returns the input image\n",
    "    \n",
    "            gray = cv2.cvtColor(img,cv2.COLOR_BGR2GRAY)\n",
    "            faces = face_classifier.detectMultiScale(gray, 1.3, 5)\n",
    "            print(faces)\n",
    "            if faces is ():\n",
    "                return None\n",
    "    \n",
    "    \n",
    "    \n",
    "    \n",
    "    \n",
    "    \n",
    "    # Crop all faces found\n",
    "            for (x,y,w,h) in faces:\n",
    "                cropped_face = img[y:y+h, x:x+w]\n",
    "\n",
    "            return cropped_face\n",
    "\n",
    "# Initialize Webcam\n",
    "\n",
    "        cap = cv2.VideoCapture(0)\n",
    "        count = 0\n",
    "\n",
    "# Collect 100 samples of your face from webcam input\n",
    "        while True:\n",
    "\n",
    "            ret, frame = cap.read()\n",
    "            if face_extractor(frame) is not None:\n",
    "                count += 1\n",
    "                face = cv2.resize(face_extractor(frame), (300, 300))\n",
    "\n",
    "        # Save file in specified directory with unique name\n",
    "                \n",
    "                os.system('mkdir ./model/'+d+'/n'+str(i))\n",
    "                file_name_path = './model/'+d+'/n'+str(i)+'/' + str(count) + '.jpg'\n",
    "                cv2.imwrite(file_name_path, face)\n",
    "\n",
    "        # Put count on images and display live count\n",
    "                cv2.imshow('Face Cropper', face)\n",
    "                cv2.putText(face, str(count), (50, 50), cv2.FONT_HERSHEY_COMPLEX, 1, (0,255,0), 2)\n",
    "\n",
    "        \n",
    "            else:\n",
    "                print(\"Face not found\")\n",
    "                pass\n",
    "\n",
    "            if cv2.waitKey(1) == 13 or count == Train: #13 is the Enter Key\n",
    "                break\n",
    "        \n",
    "        cap.release()\n",
    "        cv2.destroyAllWindows()      \n",
    "        print(\"Collecting Samples Complete\")\n",
    "        input(\"Press enter for next object \")"
   ]
  },
  {
   "cell_type": "code",
   "execution_count": 22,
   "metadata": {},
   "outputs": [
    {
     "name": "stdin",
     "output_type": "stream",
     "text": [
      "Enter 1 for Train data  or 2 for Test data :  1\n",
      "Enter Number of person :   5\n",
      "How much photo you want to take :  10\n"
     ]
    },
    {
     "name": "stdout",
     "output_type": "stream",
     "text": [
      "Start for  1\n",
      "[[200 172 267 267]]\n",
      "[[200 172 267 267]]\n",
      "[[203 176 262 262]]\n",
      "[[203 176 262 262]]\n",
      "[[204 173 268 268]]\n",
      "[[204 173 268 268]]\n",
      "[[203 172 267 267]]\n",
      "[[203 172 267 267]]\n",
      "[[204 176 265 265]]\n",
      "[[204 176 265 265]]\n",
      "[[206 174 264 264]]\n",
      "[[206 174 264 264]]\n",
      "[[205 176 261 261]]\n",
      "[[205 176 261 261]]\n",
      "[[208 178 258 258]]\n",
      "[[208 178 258 258]]\n",
      "[[210 180 256 256]]\n",
      "[[210 180 256 256]]\n",
      "[[205 176 264 264]]\n",
      "[[205 176 264 264]]\n",
      "Collecting Samples Complete\n"
     ]
    },
    {
     "name": "stdin",
     "output_type": "stream",
     "text": [
      "Press enter for next object  \n"
     ]
    },
    {
     "name": "stdout",
     "output_type": "stream",
     "text": [
      "Start for  2\n",
      "[[213 157 255 255]]\n",
      "[[213 157 255 255]]\n",
      "[[219 163 243 243]]\n",
      "[[219 163 243 243]]\n",
      "[[220 162 242 242]]\n",
      "[[220 162 242 242]]\n",
      "[[222 163 238 238]]\n",
      "[[222 163 238 238]]\n",
      "[[216 157 253 253]]\n",
      "[[216 157 253 253]]\n",
      "[[220 158 248 248]]\n",
      "[[220 158 248 248]]\n",
      "[[218 156 253 253]]\n",
      "[[218 156 253 253]]\n",
      "[[211 151 262 262]]\n",
      "[[211 151 262 262]]\n",
      "[[213 150 261 261]]\n",
      "[[213 150 261 261]]\n",
      "[[216 151 259 259]]\n",
      "[[216 151 259 259]]\n",
      "Collecting Samples Complete\n"
     ]
    },
    {
     "name": "stdin",
     "output_type": "stream",
     "text": [
      "Press enter for next object  \n"
     ]
    },
    {
     "name": "stdout",
     "output_type": "stream",
     "text": [
      "Start for  3\n",
      "[[216 153 259 259]]\n",
      "[[216 153 259 259]]\n",
      "[[217 155 257 257]]\n",
      "[[217 155 257 257]]\n",
      "[[218 154 257 257]]\n",
      "[[218 154 257 257]]\n",
      "[[217 156 257 257]]\n",
      "[[217 156 257 257]]\n",
      "[[218 156 251 251]]\n",
      "[[218 156 251 251]]\n",
      "[[223 159 245 245]]\n",
      "[[223 159 245 245]]\n",
      "[[216 152 256 256]]\n",
      "[[216 152 256 256]]\n",
      "[[215 150 262 262]]\n",
      "[[215 150 262 262]]\n",
      "[[212 152 262 262]]\n",
      "[[212 152 262 262]]\n",
      "[[213 150 266 266]]\n",
      "[[213 150 266 266]]\n",
      "Collecting Samples Complete\n"
     ]
    },
    {
     "name": "stdin",
     "output_type": "stream",
     "text": [
      "Press enter for next object  \n"
     ]
    },
    {
     "name": "stdout",
     "output_type": "stream",
     "text": [
      "Start for  4\n",
      "[[223 160 248 248]]\n",
      "[[223 160 248 248]]\n",
      "[[221 161 247 247]]\n",
      "[[221 161 247 247]]\n",
      "[[222 163 245 245]]\n",
      "[[222 163 245 245]]\n",
      "[[219 158 255 255]]\n",
      "[[219 158 255 255]]\n",
      "[[222 162 245 245]]\n",
      "[[222 162 245 245]]\n",
      "[[225 164 243 243]]\n",
      "[[225 164 243 243]]\n",
      "[[222 161 247 247]]\n",
      "[[222 161 247 247]]\n",
      "[[221 161 248 248]]\n",
      "[[221 161 248 248]]\n",
      "[[219 157 253 253]]\n",
      "[[219 157 253 253]]\n",
      "[[224 162 241 241]]\n",
      "[[224 162 241 241]]\n",
      "Collecting Samples Complete\n"
     ]
    },
    {
     "name": "stdin",
     "output_type": "stream",
     "text": [
      "Press enter for next object  \n"
     ]
    },
    {
     "name": "stdout",
     "output_type": "stream",
     "text": [
      "Start for  5\n",
      "[[218 162 252 252]]\n",
      "[[218 162 252 252]]\n",
      "[[219 163 250 250]]\n",
      "[[219 163 250 250]]\n",
      "[[216 163 254 254]]\n",
      "[[216 163 254 254]]\n",
      "[[217 160 256 256]]\n",
      "[[217 160 256 256]]\n",
      "[[216 162 255 255]]\n",
      "[[216 162 255 255]]\n",
      "[[217 163 259 259]]\n",
      "[[217 163 259 259]]\n",
      "[[213 158 266 266]]\n",
      "[[213 158 266 266]]\n",
      "[[211 165 262 262]]\n",
      "[[211 165 262 262]]\n",
      "[[206 163 268 268]]\n",
      "[[206 163 268 268]]\n",
      "[[208 164 262 262]]\n",
      "[[208 164 262 262]]\n",
      "Collecting Samples Complete\n"
     ]
    },
    {
     "name": "stdin",
     "output_type": "stream",
     "text": [
      "Press enter for next object  \n"
     ]
    }
   ],
   "source": [
    "datatype  = int(input(\"Enter 1 for Train data  or 2 for Test data : \" ))\n",
    "if datatype ==1:\n",
    "    NO = int(input(\"Enter Number of person :  \"))\n",
    "    Train = int(input(\"How much photo you want to take : \"))\n",
    "    Capture(NO,Train,\"Train\")\n",
    "elif datatype ==2:\n",
    "    NO = int(input(\"Enter Number of person :  \"))\n",
    "    Train = int(input(\"How much photo you want to take : \"))\n",
    "    Capture(NO,Train,\"Test\")\n",
    "else:\n",
    "    print(\"Enter valid number\")\n",
    "    exit(0)"
   ]
  },
  {
   "cell_type": "code",
   "execution_count": null,
   "metadata": {},
   "outputs": [],
   "source": []
  },
  {
   "cell_type": "code",
   "execution_count": null,
   "metadata": {},
   "outputs": [],
   "source": []
  }
 ],
 "metadata": {
  "kernelspec": {
   "display_name": "Python 3",
   "language": "python",
   "name": "python3"
  },
  "language_info": {
   "codemirror_mode": {
    "name": "ipython",
    "version": 3
   },
   "file_extension": ".py",
   "mimetype": "text/x-python",
   "name": "python",
   "nbconvert_exporter": "python",
   "pygments_lexer": "ipython3",
   "version": "3.7.4"
  }
 },
 "nbformat": 4,
 "nbformat_minor": 4
}

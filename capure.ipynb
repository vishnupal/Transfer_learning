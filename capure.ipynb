{
 "cells": [
  {
   "cell_type": "code",
   "execution_count": null,
   "metadata": {},
   "outputs": [],
   "source": []
  },
  {
   "cell_type": "code",
   "execution_count": 1,
   "metadata": {},
   "outputs": [
    {
     "name": "stdin",
     "output_type": "stream",
     "text": [
      "enter your object no. 5\n"
     ]
    },
    {
     "name": "stdout",
     "output_type": "stream",
     "text": [
      "Start for  1\n",
      "[[229 183 233 233]]\n",
      "[[229 183 233 233]]\n",
      "[[228 181 236 236]]\n",
      "[[228 181 236 236]]\n",
      "[[229 184 233 233]]\n",
      "[[229 184 233 233]]\n",
      "[[231 185 233 233]]\n",
      "[[231 185 233 233]]\n",
      "[[229 182 234 234]]\n",
      "[[229 182 234 234]]\n",
      "Collecting Samples Complete\n"
     ]
    },
    {
     "name": "stdin",
     "output_type": "stream",
     "text": [
      "Enter for second object  5\n"
     ]
    },
    {
     "name": "stdout",
     "output_type": "stream",
     "text": [
      "Start for  2\n",
      "[[233 179 227 227]]\n",
      "[[233 179 227 227]]\n",
      "[[231 178 229 229]]\n",
      "[[231 178 229 229]]\n",
      "[[229 178 231 231]]\n",
      "[[229 178 231 231]]\n",
      "[[228 180 231 231]]\n",
      "[[228 180 231 231]]\n",
      "[[231 182 224 224]]\n",
      "[[231 182 224 224]]\n",
      "Collecting Samples Complete\n"
     ]
    },
    {
     "name": "stdin",
     "output_type": "stream",
     "text": [
      "Enter for second object  5\n"
     ]
    },
    {
     "name": "stdout",
     "output_type": "stream",
     "text": [
      "Start for  3\n",
      "[[225 185 224 224]]\n",
      "[[225 185 224 224]]\n",
      "[[220 183 232 232]]\n",
      "[[220 183 232 232]]\n",
      "[[223 186 225 225]]\n",
      "[[223 186 225 225]]\n",
      "[[220 178 236 236]]\n",
      "[[220 178 236 236]]\n",
      "[[219 177 238 238]]\n",
      "[[219 177 238 238]]\n",
      "Collecting Samples Complete\n"
     ]
    },
    {
     "name": "stdin",
     "output_type": "stream",
     "text": [
      "Enter for second object  5\n"
     ]
    },
    {
     "name": "stdout",
     "output_type": "stream",
     "text": [
      "Start for  4\n",
      "[[219 177 240 240]]\n",
      "[[219 177 240 240]]\n",
      "[[221 177 238 238]]\n",
      "[[221 177 238 238]]\n",
      "[[219 177 242 242]]\n",
      "[[219 177 242 242]]\n",
      "[[221 180 237 237]]\n",
      "[[221 180 237 237]]\n",
      "[[223 180 237 237]]\n",
      "[[223 180 237 237]]\n",
      "Collecting Samples Complete\n"
     ]
    },
    {
     "name": "stdin",
     "output_type": "stream",
     "text": [
      "Enter for second object  5\n"
     ]
    },
    {
     "name": "stdout",
     "output_type": "stream",
     "text": [
      "Start for  5\n",
      "[[223 189 229 229]]\n",
      "[[223 189 229 229]]\n",
      "[[221 187 233 233]]\n",
      "[[221 187 233 233]]\n",
      "[[223 188 231 231]]\n",
      "[[223 188 231 231]]\n",
      "[[224 191 229 229]]\n",
      "[[224 191 229 229]]\n",
      "[[218 185 240 240]]\n",
      "[[218 185 240 240]]\n",
      "Collecting Samples Complete\n"
     ]
    },
    {
     "name": "stdin",
     "output_type": "stream",
     "text": [
      "Enter for second object  5\n"
     ]
    }
   ],
   "source": [
    "NO = int(input(\"Enter your object no.\"))\n",
    "Train = int(input(\"How much photo no\"))\n",
    "import os\n",
    "for i in range(NO):\n",
    "    print(\"Start for \",i+1)\n",
    "    import cv2\n",
    "    import numpy as np\n",
    "\n",
    "# Load HAAR face classifier\n",
    "    face_classifier = cv2.CascadeClassifier('haarcascade_frontalface_default.xml')\n",
    "\n",
    "# Load functions\n",
    "    def face_extractor(img):\n",
    "    # Function detects faces and returns the cropped face\n",
    "    # If no face detected, it returns the input image\n",
    "    \n",
    "        gray = cv2.cvtColor(img,cv2.COLOR_BGR2GRAY)\n",
    "        faces = face_classifier.detectMultiScale(gray, 1.3, 5)\n",
    "        print(faces)\n",
    "        if faces is ():\n",
    "            return None\n",
    "    \n",
    "    # Crop all faces found\n",
    "        for (x,y,w,h) in faces:\n",
    "            cropped_face = img[y:y+h, x:x+w]\n",
    "\n",
    "        return cropped_face\n",
    "\n",
    "# Initialize Webcam\n",
    "\n",
    "    cap = cv2.VideoCapture(0)\n",
    "    count = 0\n",
    "\n",
    "# Collect 100 samples of your face from webcam input\n",
    "    while True:\n",
    "\n",
    "        ret, frame = cap.read()\n",
    "        if face_extractor(frame) is not None:\n",
    "            count += 1\n",
    "            face = cv2.resize(face_extractor(frame), (300, 300))\n",
    "\n",
    "        # Save file in specified directory with unique name\n",
    "            os.system('mkdir ./model/Train/n'+str(i))\n",
    "            file_name_path = './model/Train/n'+str(i)+'/' + str(count) + '.jpg'\n",
    "            cv2.imwrite(file_name_path, face)\n",
    "\n",
    "        # Put count on images and display live count\n",
    "            cv2.imshow('Face Cropper', face)\n",
    "            cv2.putText(face, str(count), (50, 50), cv2.FONT_HERSHEY_COMPLEX, 1, (0,255,0), 2)\n",
    "\n",
    "        \n",
    "        else:\n",
    "            print(\"Face not found\")\n",
    "            pass\n",
    "\n",
    "        if cv2.waitKey(1) == 13 or count == 5: #13 is the Enter Key\n",
    "            break\n",
    "        \n",
    "    cap.release()\n",
    "    cv2.destroyAllWindows()      \n",
    "    print(\"Collecting Samples Complete\")\n",
    "    input(\"Press enter for next object \")"
   ]
  },
  {
   "cell_type": "code",
   "execution_count": null,
   "metadata": {},
   "outputs": [],
   "source": []
  },
  {
   "cell_type": "code",
   "execution_count": null,
   "metadata": {},
   "outputs": [],
   "source": []
  }
 ],
 "metadata": {
  "kernelspec": {
   "display_name": "Python 3",
   "language": "python",
   "name": "python3"
  },
  "language_info": {
   "codemirror_mode": {
    "name": "ipython",
    "version": 3
   },
   "file_extension": ".py",
   "mimetype": "text/x-python",
   "name": "python",
   "nbconvert_exporter": "python",
   "pygments_lexer": "ipython3",
   "version": "3.7.4"
  }
 },
 "nbformat": 4,
 "nbformat_minor": 4
}
